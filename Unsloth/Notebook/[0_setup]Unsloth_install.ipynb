{
  "nbformat": 4,
  "nbformat_minor": 0,
  "metadata": {
    "colab": {
      "provenance": []
    },
    "kernelspec": {
      "name": "python3",
      "display_name": "Python 3"
    },
    "language_info": {
      "name": "python"
    }
  },
  "cells": [
    {
      "cell_type": "markdown",
      "source": [
        "## [Option 1] Conda Installation\n",
        "\n",
        "Select either ***pytorch-cuda=11.8 for CUDA 11.8*** or ***pytorch-cuda=12.1 for CUDA 12.1.***\n",
        "\n",
        "If you have mamba, use mamba instead of conda for faster solving.\n",
        "\n",
        "See this Github issue for help on debugging Conda installs.\n",
        "\n"
      ],
      "metadata": {
        "id": "pzZePb0kILy9"
      }
    },
    {
      "cell_type": "code",
      "execution_count": null,
      "metadata": {
        "id": "ii-cCclYIIoe"
      },
      "outputs": [],
      "source": [
        "conda create --name unsloth_env python=3.10\n",
        "conda activate unsloth_env\n",
        "\n",
        "conda install pytorch-cuda=<12.1/11.8> pytorch cudatoolkit xformers -c pytorch -c nvidia -c xformers\n",
        "\n",
        "pip install \"unsloth[colab-new] @ git+https://github.com/unslothai/unsloth.git\"\n",
        "\n",
        "pip install --no-deps trl peft accelerate bitsandbytes"
      ]
    },
    {
      "cell_type": "markdown",
      "metadata": {
        "id": "eEd-lvP57POT"
      },
      "source": [
        "&nbsp;"
      ]
    },
    {
      "cell_type": "markdown",
      "metadata": {
        "id": "Rb6XYEgDJa29"
      },
      "source": [
        "&nbsp;"
      ]
    },
    {
      "cell_type": "markdown",
      "source": [
        "## [Option 2] Pip Installation\n",
        "\n",
        "**Do NOT use this if you have Anaconda.**\n",
        "\n",
        "You must use the Conda install method, or else stuff will BREAK.\n",
        "\n"
      ],
      "metadata": {
        "id": "GrTVlf_KI_6X"
      }
    },
    {
      "cell_type": "markdown",
      "source": [
        "**Find your CUDA version via**"
      ],
      "metadata": {
        "id": "fRdtS4YfJQDu"
      }
    },
    {
      "cell_type": "code",
      "execution_count": null,
      "metadata": {
        "id": "rNy97feBI_6X"
      },
      "outputs": [],
      "source": [
        "pip install --upgrade pip\n",
        "import torch; torch.version.cuda"
      ]
    },
    {
      "cell_type": "markdown",
      "source": [
        "**- For Pytorch 2.1.0:**\n",
        "\n",
        "You can update Pytorch via Pip (interchange cu121 / cu118). Go to https://pytorch.org/ to learn more. Select either cu118 for CUDA 11.8 or cu121 for CUDA 12.1. If you have a RTX 3060 or higher (A100, H100 etc), use the \"ampere\" path. For Pytorch 2.1.1: go to step 3. For Pytorch 2.2.0: go to step 4."
      ],
      "metadata": {
        "id": "e39zweORJvCY"
      }
    },
    {
      "cell_type": "code",
      "execution_count": null,
      "metadata": {
        "id": "LtQKiIjdJvCZ"
      },
      "outputs": [],
      "source": [
        "pip install --upgrade --force-reinstall --no-cache-dir torch==2.1.0 triton --index-url https://download.pytorch.org/whl/cu121"
      ]
    },
    {
      "cell_type": "markdown",
      "source": [
        "**- For Pytorch 2.1.1:**\n",
        "\n",
        "Use the \"ampere\" path for newer RTX 30xx GPUs or higher."
      ],
      "metadata": {
        "id": "8gXPC2lBKIPF"
      }
    },
    {
      "cell_type": "code",
      "execution_count": null,
      "metadata": {
        "id": "8qyAgtFOKIPF"
      },
      "outputs": [],
      "source": [
        "pip install --upgrade --force-reinstall --no-cache-dir torch==2.1.1 triton --index-url https://download.pytorch.org/whl/cu121"
      ]
    },
    {
      "cell_type": "code",
      "source": [
        "pip install \"unsloth[cu118-torch211] @ git+https://github.com/unslothai/unsloth.git\"\n",
        "pip install \"unsloth[cu121-torch211] @ git+https://github.com/unslothai/unsloth.git\"\n",
        "pip install \"unsloth[cu118-ampere-torch211] @ git+https://github.com/unslothai/unsloth.git\"\n",
        "pip install \"unsloth[cu121-ampere-torch211] @ git+https://github.com/unslothai/unsloth.git\""
      ],
      "metadata": {
        "id": "_oU3gSpjKSyB"
      },
      "execution_count": null,
      "outputs": []
    },
    {
      "cell_type": "markdown",
      "source": [
        "**- For Pytorch 2.2.0:**\n",
        "\n",
        "Use the \"ampere\" path for newer RTX 30xx GPUs or higher."
      ],
      "metadata": {
        "id": "k4tK9aFSKhJ2"
      }
    },
    {
      "cell_type": "code",
      "execution_count": null,
      "metadata": {
        "id": "5NDRdgOBKhJ2"
      },
      "outputs": [],
      "source": [
        "pip install --upgrade --force-reinstall --no-cache-dir torch==2.2.0 triton --index-url https://download.pytorch.org/whl/cu121"
      ]
    },
    {
      "cell_type": "code",
      "source": [
        "pip install \"unsloth[cu118-torch220] @ git+https://github.com/unslothai/unsloth.git\"\n",
        "pip install \"unsloth[cu121-torch220] @ git+https://github.com/unslothai/unsloth.git\"\n",
        "pip install \"unsloth[cu118-ampere-torch220] @ git+https://github.com/unslothai/unsloth.git\"\n",
        "pip install \"unsloth[cu121-ampere-torch220] @ git+https://github.com/unslothai/unsloth.git\""
      ],
      "metadata": {
        "id": "Eq4BK1PRKopY"
      },
      "execution_count": null,
      "outputs": []
    },
    {
      "cell_type": "markdown",
      "source": [
        "**- For Pytorch 2.2.1:**\n",
        "\n",
        "Use the \"ampere\" path for newer RTX 30xx GPUs or higher."
      ],
      "metadata": {
        "id": "N0QDceHtKsFc"
      }
    },
    {
      "cell_type": "code",
      "source": [
        "# RTX 3090, 4090 Ampere GPUs:\n",
        "pip install \"unsloth[colab-new] @ git+https://github.com/unslothai/unsloth.git\"\n",
        "pip install --no-deps packaging ninja einops flash-attn xformers trl peft accelerate bitsandbytes\n",
        "\n",
        "# Pre Ampere RTX 2080, T4, GTX 1080 GPUs:\n",
        "pip install \"unsloth[colab-new] @ git+https://github.com/unslothai/unsloth.git\"\n",
        "pip install --no-deps xformers trl peft accelerate bitsandbytes"
      ],
      "metadata": {
        "id": "RoImv-ppLCs0"
      },
      "execution_count": null,
      "outputs": []
    },
    {
      "cell_type": "markdown",
      "metadata": {
        "id": "_Rh7wJAgLbsl"
      },
      "source": [
        "&nbsp;"
      ]
    },
    {
      "cell_type": "markdown",
      "source": [
        "※ To troubleshoot installs try the below (all must succeed). Xformers should mostly all be available."
      ],
      "metadata": {
        "id": "neUPMdS5LSrN"
      }
    },
    {
      "cell_type": "code",
      "source": [
        "nvcc\n",
        "python -m xformers.info\n",
        "python -m bitsandbytes"
      ],
      "metadata": {
        "id": "NgAT7mz-LU6_"
      },
      "execution_count": null,
      "outputs": []
    }
  ]
}